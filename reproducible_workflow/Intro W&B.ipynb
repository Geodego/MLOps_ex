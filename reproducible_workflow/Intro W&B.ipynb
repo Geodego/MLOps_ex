{
 "cells": [
  {
   "cell_type": "markdown",
   "id": "047c443f",
   "metadata": {
    "pycharm": {
     "name": "#%% md\n"
    }
   },
   "source": [
    "# Import Weights & Biases"
   ]
  },
  {
   "cell_type": "code",
   "execution_count": 17,
   "id": "c9f20f4c",
   "metadata": {
    "pycharm": {
     "name": "#%%\n"
    }
   },
   "outputs": [],
   "source": [
    "import wandb"
   ]
  },
  {
   "cell_type": "markdown",
   "id": "920a3cf0",
   "metadata": {
    "pycharm": {
     "name": "#%% md\n"
    }
   },
   "source": [
    "# Create an artifact"
   ]
  },
  {
   "cell_type": "code",
   "execution_count": 53,
   "id": "3ed7446c",
   "metadata": {
    "pycharm": {
     "name": "#%%\n"
    }
   },
   "outputs": [],
   "source": [
    "with open('my_artifact.txt', 'w+') as fp:\n",
    "    fp.write(\"this is an example of an artifact\")"
   ]
  },
  {
   "cell_type": "code",
   "execution_count": 54,
   "id": "931bce9f",
   "metadata": {
    "pycharm": {
     "name": "#%%\n"
    }
   },
   "outputs": [
    {
     "name": "stdout",
     "output_type": "stream",
     "text": [
      "ML tools.ipynb  my_artifact.txt \u001B[34mwandb\u001B[m\u001B[m\r\n"
     ]
    }
   ],
   "source": [
    "!ls"
   ]
  },
  {
   "cell_type": "markdown",
   "id": "93018e25",
   "metadata": {
    "pycharm": {
     "name": "#%% md\n"
    }
   },
   "source": [
    "# Upload to W&B"
   ]
  },
  {
   "cell_type": "code",
   "execution_count": 56,
   "id": "0596adf4",
   "metadata": {
    "pycharm": {
     "name": "#%%\n"
    }
   },
   "outputs": [
    {
     "data": {
      "text/html": [
       "Finishing last run (ID:32k25721) before initializing another..."
      ],
      "text/plain": [
       "<IPython.core.display.HTML object>"
      ]
     },
     "metadata": {},
     "output_type": "display_data"
    },
    {
     "data": {
      "text/html": [
       "Successfully finished last run (ID:32k25721). Initializing new run:<br/>"
      ],
      "text/plain": [
       "<IPython.core.display.HTML object>"
      ]
     },
     "metadata": {},
     "output_type": "display_data"
    },
    {
     "data": {
      "text/html": [
       "\n",
       "                    Syncing run <strong><a href=\"https://wandb.ai/geodego/demo_artifact/runs/1qfyw6hj\" target=\"_blank\">magic-jazz-5</a></strong> to <a href=\"https://wandb.ai/geodego/demo_artifact\" target=\"_blank\">Weights & Biases</a> (<a href=\"https://docs.wandb.com/integrations/jupyter.html\" target=\"_blank\">docs</a>).<br/>\n",
       "\n",
       "                "
      ],
      "text/plain": [
       "<IPython.core.display.HTML object>"
      ]
     },
     "metadata": {},
     "output_type": "display_data"
    }
   ],
   "source": [
    "run = wandb.init(project=\"demo_artifact\", group=\"experiment_1\")"
   ]
  },
  {
   "cell_type": "code",
   "execution_count": 57,
   "id": "83ab541c",
   "metadata": {
    "pycharm": {
     "name": "#%%\n"
    }
   },
   "outputs": [],
   "source": [
    "artifact = wandb.Artifact(name=\"my_artifact.txt\", \n",
    "                          type='data', \n",
    "                          description=\"This is an example of an artifact\",\n",
    "                          metadata={'key_1': 'value_1'})"
   ]
  },
  {
   "cell_type": "code",
   "execution_count": 58,
   "id": "ccb0fcc6",
   "metadata": {
    "pycharm": {
     "name": "#%%\n"
    }
   },
   "outputs": [
    {
     "data": {
      "text/plain": [
       "'/Users/gdegournay/PycharmProjects/Udacity/MLOps/MLOps_ex/reproducible workflow'"
      ]
     },
     "execution_count": 58,
     "metadata": {},
     "output_type": "execute_result"
    }
   ],
   "source": [
    "import os\n",
    "path = os.getcwd()\n",
    "path"
   ]
  },
  {
   "cell_type": "code",
   "execution_count": 59,
   "id": "2e62719a",
   "metadata": {
    "pycharm": {
     "name": "#%%\n"
    }
   },
   "outputs": [
    {
     "data": {
      "text/plain": [
       "<ManifestEntry digest: gv/Ztg9McLutX2l++sE7LA==>"
      ]
     },
     "execution_count": 59,
     "metadata": {},
     "output_type": "execute_result"
    }
   ],
   "source": [
    "artifact.add_file(path +'/my_artifact.txt')"
   ]
  },
  {
   "cell_type": "code",
   "execution_count": 60,
   "id": "bf66c03e",
   "metadata": {
    "pycharm": {
     "name": "#%%\n"
    }
   },
   "outputs": [
    {
     "data": {
      "text/plain": [
       "<wandb.sdk.wandb_artifacts.Artifact at 0x7fc460ca7b80>"
      ]
     },
     "execution_count": 60,
     "metadata": {},
     "output_type": "execute_result"
    }
   ],
   "source": [
    "run.log_artifact(artifact)"
   ]
  },
  {
   "cell_type": "markdown",
   "id": "773a6817",
   "metadata": {
    "pycharm": {
     "name": "#%% md\n"
    }
   },
   "source": [
    "The fact that you log the artifact does not mean it is immediately available, it will be uploaded to the server  when you close the run or whenever W&B decides to sync with the server. To force W&B to upload the artifact finish the run with the following command to finish the run:"
   ]
  },
  {
   "cell_type": "code",
   "execution_count": 61,
   "id": "415ac270",
   "metadata": {
    "pycharm": {
     "name": "#%%\n"
    }
   },
   "outputs": [
    {
     "ename": "AttributeError",
     "evalue": "'ZMQDisplayPublisher' object has no attribute '_orig_publish'",
     "output_type": "error",
     "traceback": [
      "\u001B[0;31m---------------------------------------------------------------------------\u001B[0m",
      "\u001B[0;31mAttributeError\u001B[0m                            Traceback (most recent call last)",
      "Input \u001B[0;32mIn [61]\u001B[0m, in \u001B[0;36m<module>\u001B[0;34m\u001B[0m\n\u001B[0;32m----> 1\u001B[0m \u001B[43mrun\u001B[49m\u001B[38;5;241;43m.\u001B[39;49m\u001B[43mfinish\u001B[49m\u001B[43m(\u001B[49m\u001B[43m)\u001B[49m\n",
      "File \u001B[0;32m~/opt/anaconda3/envs/udacity/lib/python3.8/site-packages/wandb/sdk/wandb_run.py:1461\u001B[0m, in \u001B[0;36mRun.finish\u001B[0;34m(self, exit_code, quiet)\u001B[0m\n\u001B[1;32m   1459\u001B[0m \u001B[38;5;28;01mfor\u001B[39;00m hook \u001B[38;5;129;01min\u001B[39;00m \u001B[38;5;28mself\u001B[39m\u001B[38;5;241m.\u001B[39m_teardown_hooks:\n\u001B[1;32m   1460\u001B[0m     \u001B[38;5;28;01mif\u001B[39;00m hook\u001B[38;5;241m.\u001B[39mstage \u001B[38;5;241m==\u001B[39m TeardownStage\u001B[38;5;241m.\u001B[39mEARLY:\n\u001B[0;32m-> 1461\u001B[0m         \u001B[43mhook\u001B[49m\u001B[38;5;241;43m.\u001B[39;49m\u001B[43mcall\u001B[49m\u001B[43m(\u001B[49m\u001B[43m)\u001B[49m\n\u001B[1;32m   1463\u001B[0m \u001B[38;5;28mself\u001B[39m\u001B[38;5;241m.\u001B[39m_atexit_cleanup(exit_code\u001B[38;5;241m=\u001B[39mexit_code)\n\u001B[1;32m   1464\u001B[0m \u001B[38;5;28;01mif\u001B[39;00m \u001B[38;5;28mself\u001B[39m\u001B[38;5;241m.\u001B[39m_wl \u001B[38;5;129;01mand\u001B[39;00m \u001B[38;5;28mlen\u001B[39m(\u001B[38;5;28mself\u001B[39m\u001B[38;5;241m.\u001B[39m_wl\u001B[38;5;241m.\u001B[39m_global_run_stack) \u001B[38;5;241m>\u001B[39m \u001B[38;5;241m0\u001B[39m:\n",
      "File \u001B[0;32m~/opt/anaconda3/envs/udacity/lib/python3.8/site-packages/wandb/sdk/wandb_init.py:311\u001B[0m, in \u001B[0;36m_WandbInit._jupyter_teardown\u001B[0;34m(self)\u001B[0m\n\u001B[1;32m    309\u001B[0m     \u001B[38;5;28;01mif\u001B[39;00m \u001B[38;5;124m\"\u001B[39m\u001B[38;5;124m_pause_backend\u001B[39m\u001B[38;5;124m\"\u001B[39m \u001B[38;5;129;01min\u001B[39;00m hook\u001B[38;5;241m.\u001B[39m\u001B[38;5;18m__name__\u001B[39m:\n\u001B[1;32m    310\u001B[0m         ipython\u001B[38;5;241m.\u001B[39mevents\u001B[38;5;241m.\u001B[39munregister(\u001B[38;5;124m\"\u001B[39m\u001B[38;5;124mpost_run_cell\u001B[39m\u001B[38;5;124m\"\u001B[39m, hook)\n\u001B[0;32m--> 311\u001B[0m ipython\u001B[38;5;241m.\u001B[39mdisplay_pub\u001B[38;5;241m.\u001B[39mpublish \u001B[38;5;241m=\u001B[39m \u001B[43mipython\u001B[49m\u001B[38;5;241;43m.\u001B[39;49m\u001B[43mdisplay_pub\u001B[49m\u001B[38;5;241;43m.\u001B[39;49m\u001B[43m_orig_publish\u001B[49m\n\u001B[1;32m    312\u001B[0m \u001B[38;5;28;01mdel\u001B[39;00m ipython\u001B[38;5;241m.\u001B[39mdisplay_pub\u001B[38;5;241m.\u001B[39m_orig_publish\n",
      "\u001B[0;31mAttributeError\u001B[0m: 'ZMQDisplayPublisher' object has no attribute '_orig_publish'"
     ]
    }
   ],
   "source": [
    "run.finish()"
   ]
  },
  {
   "cell_type": "markdown",
   "id": "bfe98bda",
   "metadata": {
    "pycharm": {
     "name": "#%% md\n"
    }
   },
   "source": [
    "# Generate a new version by changing the artifact"
   ]
  },
  {
   "cell_type": "code",
   "execution_count": 63,
   "id": "f440e7d2",
   "metadata": {
    "pycharm": {
     "name": "#%%\n"
    }
   },
   "outputs": [
    {
     "data": {
      "text/html": [
       "Finishing last run (ID:13u310ep) before initializing another..."
      ],
      "text/plain": [
       "<IPython.core.display.HTML object>"
      ]
     },
     "metadata": {},
     "output_type": "display_data"
    },
    {
     "data": {
      "text/html": [
       "<br/>Waiting for W&B process to finish, PID 2228... <strong style=\"color:green\">(success).</strong>"
      ],
      "text/plain": [
       "<IPython.core.display.HTML object>"
      ]
     },
     "metadata": {},
     "output_type": "display_data"
    },
    {
     "data": {
      "application/vnd.jupyter.widget-view+json": {
       "model_id": "",
       "version_major": 2,
       "version_minor": 0
      },
      "text/plain": [
       "VBox(children=(Label(value=' 0.00MB of 0.00MB uploaded (0.00MB deduped)\\r'), FloatProgress(value=1.0, max=1.0)…"
      ]
     },
     "metadata": {},
     "output_type": "display_data"
    },
    {
     "data": {
      "text/html": [
       "<style>\n",
       "    table.wandb td:nth-child(1) { padding: 0 10px; text-align: right }\n",
       "    .wandb-row { display: flex; flex-direction: row; flex-wrap: wrap; width: 100% }\n",
       "    .wandb-col { display: flex; flex-direction: column; flex-basis: 100%; flex: 1; padding: 10px; }\n",
       "    </style>\n",
       "<div class=\"wandb-row\"><div class=\"wandb-col\">\n",
       "</div><div class=\"wandb-col\">\n",
       "</div></div>\n",
       "Synced 5 W&B file(s), 0 media file(s), 1 artifact file(s) and 0 other file(s)\n",
       "<br/>Synced <strong style=\"color:#cdcd00\">grateful-firebrand-1</strong>: <a href=\"https://wandb.ai/geodego/demo_artifact_1/runs/13u310ep\" target=\"_blank\">https://wandb.ai/geodego/demo_artifact_1/runs/13u310ep</a><br/>\n",
       "Find logs at: <code>./wandb/run-20220121_141831-13u310ep/logs</code><br/>\n"
      ],
      "text/plain": [
       "<IPython.core.display.HTML object>"
      ]
     },
     "metadata": {},
     "output_type": "display_data"
    },
    {
     "data": {
      "text/html": [
       "Successfully finished last run (ID:13u310ep). Initializing new run:<br/>"
      ],
      "text/plain": [
       "<IPython.core.display.HTML object>"
      ]
     },
     "metadata": {},
     "output_type": "display_data"
    },
    {
     "data": {
      "text/html": [
       "\n",
       "                    Syncing run <strong><a href=\"https://wandb.ai/geodego/demo_artifact_1/runs/31nlhia8\" target=\"_blank\">playful-tree-2</a></strong> to <a href=\"https://wandb.ai/geodego/demo_artifact_1\" target=\"_blank\">Weights & Biases</a> (<a href=\"https://docs.wandb.com/integrations/jupyter.html\" target=\"_blank\">docs</a>).<br/>\n",
       "\n",
       "                "
      ],
      "text/plain": [
       "<IPython.core.display.HTML object>"
      ]
     },
     "metadata": {},
     "output_type": "display_data"
    },
    {
     "data": {
      "text/plain": [
       "<wandb.sdk.wandb_artifacts.Artifact at 0x7fc42248fa60>"
      ]
     },
     "execution_count": 63,
     "metadata": {},
     "output_type": "execute_result"
    }
   ],
   "source": [
    "with open('my_artifax.txt', 'w+') as fp:\n",
    "    fp.write(\"this is an example of an artifact changed\")\n",
    "\n",
    "run = wandb.init(project=\"demo_artifact_1\", group=\"experiment_1\")\n",
    "artifact = wandb.Artifact(name=\"my_artifact.txt\", \n",
    "                          type='data', \n",
    "                          description=\"This is an example of an artifact\",\n",
    "                          metadata={'key_1': 'value_1'})\n",
    "artifact.add_file(path +'/my_artifact.txt')\n",
    "run.log_artifact(artifact)\n",
    "\n"
   ]
  },
  {
   "cell_type": "markdown",
   "id": "84f360af",
   "metadata": {
    "pycharm": {
     "name": "#%% md\n"
    }
   },
   "source": [
    "# Using runs with context managers\n",
    "(shows that the version does not change even across multiple runs if the artifact does not change) It s equivalent to calling init() then finish()"
   ]
  },
  {
   "cell_type": "code",
   "execution_count": 64,
   "id": "3e2366f8",
   "metadata": {
    "pycharm": {
     "name": "#%%\n"
    }
   },
   "outputs": [
    {
     "data": {
      "text/html": [
       "Finishing last run (ID:31nlhia8) before initializing another..."
      ],
      "text/plain": [
       "<IPython.core.display.HTML object>"
      ]
     },
     "metadata": {},
     "output_type": "display_data"
    },
    {
     "data": {
      "text/html": [
       "<br/>Waiting for W&B process to finish, PID 2236... <strong style=\"color:green\">(success).</strong>"
      ],
      "text/plain": [
       "<IPython.core.display.HTML object>"
      ]
     },
     "metadata": {},
     "output_type": "display_data"
    },
    {
     "data": {
      "application/vnd.jupyter.widget-view+json": {
       "model_id": "",
       "version_major": 2,
       "version_minor": 0
      },
      "text/plain": [
       "VBox(children=(Label(value=' 0.00MB of 0.00MB uploaded (0.00MB deduped)\\r'), FloatProgress(value=1.0, max=1.0)…"
      ]
     },
     "metadata": {},
     "output_type": "display_data"
    },
    {
     "data": {
      "text/html": [
       "<style>\n",
       "    table.wandb td:nth-child(1) { padding: 0 10px; text-align: right }\n",
       "    .wandb-row { display: flex; flex-direction: row; flex-wrap: wrap; width: 100% }\n",
       "    .wandb-col { display: flex; flex-direction: column; flex-basis: 100%; flex: 1; padding: 10px; }\n",
       "    </style>\n",
       "<div class=\"wandb-row\"><div class=\"wandb-col\">\n",
       "</div><div class=\"wandb-col\">\n",
       "</div></div>\n",
       "Synced 5 W&B file(s), 0 media file(s), 0 artifact file(s) and 0 other file(s)\n",
       "<br/>Synced <strong style=\"color:#cdcd00\">playful-tree-2</strong>: <a href=\"https://wandb.ai/geodego/demo_artifact_1/runs/31nlhia8\" target=\"_blank\">https://wandb.ai/geodego/demo_artifact_1/runs/31nlhia8</a><br/>\n",
       "Find logs at: <code>./wandb/run-20220121_141901-31nlhia8/logs</code><br/>\n"
      ],
      "text/plain": [
       "<IPython.core.display.HTML object>"
      ]
     },
     "metadata": {},
     "output_type": "display_data"
    },
    {
     "data": {
      "text/html": [
       "Successfully finished last run (ID:31nlhia8). Initializing new run:<br/>"
      ],
      "text/plain": [
       "<IPython.core.display.HTML object>"
      ]
     },
     "metadata": {},
     "output_type": "display_data"
    },
    {
     "data": {
      "text/html": [
       "\n",
       "                    Syncing run <strong><a href=\"https://wandb.ai/geodego/multiple_runs/runs/3b9ry0r9\" target=\"_blank\">ancient-haze-1</a></strong> to <a href=\"https://wandb.ai/geodego/multiple_runs\" target=\"_blank\">Weights & Biases</a> (<a href=\"https://docs.wandb.com/integrations/jupyter.html\" target=\"_blank\">docs</a>).<br/>\n",
       "\n",
       "                "
      ],
      "text/plain": [
       "<IPython.core.display.HTML object>"
      ]
     },
     "metadata": {},
     "output_type": "display_data"
    },
    {
     "ename": "AttributeError",
     "evalue": "'ZMQDisplayPublisher' object has no attribute '_orig_publish'",
     "output_type": "error",
     "traceback": [
      "\u001B[0;31m---------------------------------------------------------------------------\u001B[0m",
      "\u001B[0;31mAttributeError\u001B[0m                            Traceback (most recent call last)",
      "Input \u001B[0;32mIn [64]\u001B[0m, in \u001B[0;36m<module>\u001B[0;34m\u001B[0m\n\u001B[1;32m      1\u001B[0m \u001B[38;5;28;01mwith\u001B[39;00m wandb\u001B[38;5;241m.\u001B[39minit(project\u001B[38;5;241m=\u001B[39m\u001B[38;5;124m\"\u001B[39m\u001B[38;5;124mmultiple_runs\u001B[39m\u001B[38;5;124m\"\u001B[39m) \u001B[38;5;28;01mas\u001B[39;00m run:\n\u001B[1;32m      2\u001B[0m     artifact \u001B[38;5;241m=\u001B[39m wandb\u001B[38;5;241m.\u001B[39mArtifact(name\u001B[38;5;241m=\u001B[39m\u001B[38;5;124m\"\u001B[39m\u001B[38;5;124mmy_artifact.txt\u001B[39m\u001B[38;5;124m\"\u001B[39m, \n\u001B[1;32m      3\u001B[0m                           \u001B[38;5;28mtype\u001B[39m\u001B[38;5;241m=\u001B[39m\u001B[38;5;124m'\u001B[39m\u001B[38;5;124mdata\u001B[39m\u001B[38;5;124m'\u001B[39m, \n\u001B[1;32m      4\u001B[0m                           description\u001B[38;5;241m=\u001B[39m\u001B[38;5;124m\"\u001B[39m\u001B[38;5;124mThis is an example of an artifact\u001B[39m\u001B[38;5;124m\"\u001B[39m,\n\u001B[1;32m      5\u001B[0m                           metadata\u001B[38;5;241m=\u001B[39m{\u001B[38;5;124m'\u001B[39m\u001B[38;5;124mkey_1\u001B[39m\u001B[38;5;124m'\u001B[39m: \u001B[38;5;124m'\u001B[39m\u001B[38;5;124mvalue_1\u001B[39m\u001B[38;5;124m'\u001B[39m})\n\u001B[0;32m----> 6\u001B[0m     artifact\u001B[38;5;241m.\u001B[39madd_file(path \u001B[38;5;241m+\u001B[39m\u001B[38;5;124m'\u001B[39m\u001B[38;5;124m/my_artifact.txt\u001B[39m\u001B[38;5;124m'\u001B[39m)\n",
      "File \u001B[0;32m~/opt/anaconda3/envs/udacity/lib/python3.8/site-packages/wandb/sdk/wandb_run.py:2760\u001B[0m, in \u001B[0;36mRun.__exit__\u001B[0;34m(self, exc_type, exc_val, exc_tb)\u001B[0m\n\u001B[1;32m   2753\u001B[0m \u001B[38;5;28;01mdef\u001B[39;00m \u001B[38;5;21m__exit__\u001B[39m(\n\u001B[1;32m   2754\u001B[0m     \u001B[38;5;28mself\u001B[39m,\n\u001B[1;32m   2755\u001B[0m     exc_type: Type[\u001B[38;5;167;01mBaseException\u001B[39;00m],\n\u001B[1;32m   2756\u001B[0m     exc_val: \u001B[38;5;167;01mBaseException\u001B[39;00m,\n\u001B[1;32m   2757\u001B[0m     exc_tb: TracebackType,\n\u001B[1;32m   2758\u001B[0m ) \u001B[38;5;241m-\u001B[39m\u001B[38;5;241m>\u001B[39m \u001B[38;5;28mbool\u001B[39m:\n\u001B[1;32m   2759\u001B[0m     exit_code \u001B[38;5;241m=\u001B[39m \u001B[38;5;241m0\u001B[39m \u001B[38;5;28;01mif\u001B[39;00m exc_type \u001B[38;5;129;01mis\u001B[39;00m \u001B[38;5;28;01mNone\u001B[39;00m \u001B[38;5;28;01melse\u001B[39;00m \u001B[38;5;241m1\u001B[39m\n\u001B[0;32m-> 2760\u001B[0m     \u001B[38;5;28;43mself\u001B[39;49m\u001B[38;5;241;43m.\u001B[39;49m\u001B[43mfinish\u001B[49m\u001B[43m(\u001B[49m\u001B[43mexit_code\u001B[49m\u001B[43m)\u001B[49m\n\u001B[1;32m   2761\u001B[0m     \u001B[38;5;28;01mreturn\u001B[39;00m exc_type \u001B[38;5;129;01mis\u001B[39;00m \u001B[38;5;28;01mNone\u001B[39;00m\n",
      "File \u001B[0;32m~/opt/anaconda3/envs/udacity/lib/python3.8/site-packages/wandb/sdk/wandb_run.py:1461\u001B[0m, in \u001B[0;36mRun.finish\u001B[0;34m(self, exit_code, quiet)\u001B[0m\n\u001B[1;32m   1459\u001B[0m \u001B[38;5;28;01mfor\u001B[39;00m hook \u001B[38;5;129;01min\u001B[39;00m \u001B[38;5;28mself\u001B[39m\u001B[38;5;241m.\u001B[39m_teardown_hooks:\n\u001B[1;32m   1460\u001B[0m     \u001B[38;5;28;01mif\u001B[39;00m hook\u001B[38;5;241m.\u001B[39mstage \u001B[38;5;241m==\u001B[39m TeardownStage\u001B[38;5;241m.\u001B[39mEARLY:\n\u001B[0;32m-> 1461\u001B[0m         \u001B[43mhook\u001B[49m\u001B[38;5;241;43m.\u001B[39;49m\u001B[43mcall\u001B[49m\u001B[43m(\u001B[49m\u001B[43m)\u001B[49m\n\u001B[1;32m   1463\u001B[0m \u001B[38;5;28mself\u001B[39m\u001B[38;5;241m.\u001B[39m_atexit_cleanup(exit_code\u001B[38;5;241m=\u001B[39mexit_code)\n\u001B[1;32m   1464\u001B[0m \u001B[38;5;28;01mif\u001B[39;00m \u001B[38;5;28mself\u001B[39m\u001B[38;5;241m.\u001B[39m_wl \u001B[38;5;129;01mand\u001B[39;00m \u001B[38;5;28mlen\u001B[39m(\u001B[38;5;28mself\u001B[39m\u001B[38;5;241m.\u001B[39m_wl\u001B[38;5;241m.\u001B[39m_global_run_stack) \u001B[38;5;241m>\u001B[39m \u001B[38;5;241m0\u001B[39m:\n",
      "File \u001B[0;32m~/opt/anaconda3/envs/udacity/lib/python3.8/site-packages/wandb/sdk/wandb_init.py:311\u001B[0m, in \u001B[0;36m_WandbInit._jupyter_teardown\u001B[0;34m(self)\u001B[0m\n\u001B[1;32m    309\u001B[0m     \u001B[38;5;28;01mif\u001B[39;00m \u001B[38;5;124m\"\u001B[39m\u001B[38;5;124m_pause_backend\u001B[39m\u001B[38;5;124m\"\u001B[39m \u001B[38;5;129;01min\u001B[39;00m hook\u001B[38;5;241m.\u001B[39m\u001B[38;5;18m__name__\u001B[39m:\n\u001B[1;32m    310\u001B[0m         ipython\u001B[38;5;241m.\u001B[39mevents\u001B[38;5;241m.\u001B[39munregister(\u001B[38;5;124m\"\u001B[39m\u001B[38;5;124mpost_run_cell\u001B[39m\u001B[38;5;124m\"\u001B[39m, hook)\n\u001B[0;32m--> 311\u001B[0m ipython\u001B[38;5;241m.\u001B[39mdisplay_pub\u001B[38;5;241m.\u001B[39mpublish \u001B[38;5;241m=\u001B[39m \u001B[43mipython\u001B[49m\u001B[38;5;241;43m.\u001B[39;49m\u001B[43mdisplay_pub\u001B[49m\u001B[38;5;241;43m.\u001B[39;49m\u001B[43m_orig_publish\u001B[49m\n\u001B[1;32m    312\u001B[0m \u001B[38;5;28;01mdel\u001B[39;00m ipython\u001B[38;5;241m.\u001B[39mdisplay_pub\u001B[38;5;241m.\u001B[39m_orig_publish\n",
      "\u001B[0;31mAttributeError\u001B[0m: 'ZMQDisplayPublisher' object has no attribute '_orig_publish'"
     ]
    }
   ],
   "source": [
    "with wandb.init(project=\"multiple_runs\") as run:\n",
    "    artifact = wandb.Artifact(name=\"my_artifact.txt\", \n",
    "                          type='data', \n",
    "                          description=\"This is an example of an artifact\",\n",
    "                          metadata={'key_1': 'value_1'})\n",
    "    artifact.add_file(path +'/my_artifact.txt')"
   ]
  },
  {
   "cell_type": "code",
   "execution_count": null,
   "id": "1c042048",
   "metadata": {
    "pycharm": {
     "name": "#%%\n"
    }
   },
   "outputs": [],
   "source": []
  }
 ],
 "metadata": {
  "kernelspec": {
   "display_name": "udacity",
   "language": "python",
   "name": "udacity"
  },
  "language_info": {
   "codemirror_mode": {
    "name": "ipython",
    "version": 3
   },
   "file_extension": ".py",
   "mimetype": "text/x-python",
   "name": "python",
   "nbconvert_exporter": "python",
   "pygments_lexer": "ipython3",
   "version": "3.8.12"
  }
 },
 "nbformat": 4,
 "nbformat_minor": 5
}